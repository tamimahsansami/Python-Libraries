{
 "cells": [
  {
   "cell_type": "code",
   "execution_count": 78,
   "id": "98b28eff-be94-4b23-8dc2-c0cd41abce8d",
   "metadata": {},
   "outputs": [
    {
     "name": "stdout",
     "output_type": "stream",
     "text": [
      "[1 3 4 5]\n",
      "1\n",
      "int32\n",
      "<class 'numpy.ndarray'>\n"
     ]
    }
   ],
   "source": [
    "import numpy as np\n",
    "x=np.array([1,3,4,5])\n",
    "print(x)\n",
    "\n",
    "print(x.ndim)\n",
    "print(x.dtype)\n",
    "print(type(x))"
   ]
  },
  {
   "cell_type": "code",
   "execution_count": 25,
   "id": "65ceee80-c0d2-4783-bfd2-5bf60153e540",
   "metadata": {},
   "outputs": [
    {
     "name": "stdout",
     "output_type": "stream",
     "text": [
      "[[1 2 5]\n",
      " [1 2 3]]\n",
      "2\n",
      "\n",
      "[[[1 2 5]\n",
      "  [5 7 9]\n",
      "  [1 2 3]]]\n",
      "3\n",
      "\n",
      "[[[[[1 2 3]]]]]\n"
     ]
    }
   ],
   "source": [
    "y = np.array([[1,2,5],[1,2,3]])\n",
    "print(y)\n",
    "print(y.ndim)\n",
    "print()\n",
    "\n",
    "y1 = np.array([[[1,2,5],[5,7,9],[1,2,3]]])\n",
    "print(y1)\n",
    "print(y1.ndim)\n",
    "print()\n",
    "\n",
    "z=np.array([1,2,3],ndmin=5)\n",
    "print(z)"
   ]
  },
  {
   "cell_type": "code",
   "execution_count": 81,
   "id": "52590e34-60c6-47c4-93b0-affffe3ec889",
   "metadata": {},
   "outputs": [
    {
     "name": "stdout",
     "output_type": "stream",
     "text": [
      "[[0. 0. 0. 0. 0.]\n",
      " [0. 0. 0. 0. 0.]\n",
      " [0. 0. 0. 0. 0.]\n",
      " [0. 0. 0. 0. 0.]]\n",
      "\n",
      "[1. 1.]\n",
      "\n",
      "[[0. 0. 0. 0. 0. 0. 0.]\n",
      " [0. 0. 0. 0. 0. 0. 0.]\n",
      " [0. 0. 0. 0. 0. 0. 0.]\n",
      " [0. 0. 0. 0. 0. 0. 0.]\n",
      " [0. 0. 0. 0. 0. 0. 0.]]\n",
      "\n",
      "[1 3 5 7 9]\n"
     ]
    }
   ],
   "source": [
    "import numpy as np\n",
    "ar_zero=np.zeros((4,5))       #4rows*columns\n",
    "print(ar_zero)\n",
    "print()\n",
    "\n",
    "ar_1=np.ones(2)\n",
    "print(ar_1)\n",
    "print()\n",
    "\n",
    "ar_2=np.empty((5,7))\n",
    "print(ar_2)\n",
    "print()\n",
    "\n",
    "ar_3=np.arange(1,10,2)\n",
    "print(ar_3)"
   ]
  },
  {
   "cell_type": "code",
   "execution_count": 53,
   "id": "5898b752-065b-4276-8d6b-97d210112fd2",
   "metadata": {},
   "outputs": [
    {
     "name": "stdout",
     "output_type": "stream",
     "text": [
      "[[1. 0. 0.]\n",
      " [0. 1. 0.]\n",
      " [0. 0. 1.]]\n"
     ]
    }
   ],
   "source": [
    "ar=np.eye(3)\n",
    "print(ar)         "
   ]
  },
  {
   "cell_type": "code",
   "execution_count": 11,
   "id": "6e65239b-e51c-40d3-90a3-72d61b1c8d4e",
   "metadata": {},
   "outputs": [
    {
     "name": "stdout",
     "output_type": "stream",
     "text": [
      "[2 4 6 8]\n"
     ]
    }
   ],
   "source": [
    "ar2=np.arange(2,10,2)\n",
    "print(ar2)"
   ]
  },
  {
   "cell_type": "code",
   "execution_count": 67,
   "id": "6515a97f-da71-4f05-9177-c0453ca5f6a5",
   "metadata": {},
   "outputs": [
    {
     "name": "stdout",
     "output_type": "stream",
     "text": [
      "[ 2.  4.  6.  8. 10. 12.]\n"
     ]
    }
   ],
   "source": [
    "ar_lin=np.linspace(2,12,num=6)   #initialization:2 end:12 elements:6\n",
    "print(ar_lin)"
   ]
  },
  {
   "cell_type": "code",
   "execution_count": 159,
   "id": "ae61ff23-3439-459c-9f9a-2370a88d8729",
   "metadata": {},
   "outputs": [
    {
     "name": "stdout",
     "output_type": "stream",
     "text": [
      "[[0.99901498 0.38527951 0.0582487  0.6114609 ]\n",
      " [0.6827166  0.86867374 0.88003433 0.00767403]]\n",
      "\n",
      "[[-0.8681067   0.55809921 -0.12191717  0.35426807]\n",
      " [ 2.01049571  0.94331032 -2.16433741 -0.67304307]\n",
      " [-0.99362839  0.51160297 -1.70775956  0.0826947 ]]\n",
      "\n",
      "[0.52907601 0.06140438 0.44412718 0.36624375 0.42922487]\n",
      "\n",
      "None\n"
     ]
    }
   ],
   "source": [
    "var= np.random.rand(2,4)    #0 to 1 , only positive\n",
    "print(var)\n",
    "print()\n",
    "\n",
    "var1=np.random.randn(3,4)   #0 to 1 , positive & negative\n",
    "print(var1)\n",
    "print()\n",
    "\n",
    "var2=np.random.ranf(5)   #0.0 to 9.99999 \n",
    "print(var2)\n",
    "print()\n",
    "\n",
    "x=np.array([1,2,3,4,5,67,8,8])\n",
    "var3=np.random.shuffle(x) \n",
    "print(var3)"
   ]
  },
  {
   "cell_type": "code",
   "execution_count": 51,
   "id": "921423a6-943e-4c9c-905d-7c1aa8b325b7",
   "metadata": {},
   "outputs": [
    {
     "name": "stdout",
     "output_type": "stream",
     "text": [
      "[7 5 0 5 1 6 2 4]\n",
      "\n",
      "[[120  14 144   2 144]\n",
      " [138  87 149  20  55]\n",
      " [ 18  93 140  81  18]]\n",
      "\n",
      "[2 8 8 7]\n"
     ]
    }
   ],
   "source": [
    "r=np.random.randint(10,size=(8))   #under 10 ,8 values\n",
    "print(r)\n",
    "print()\n",
    "\n",
    "r1=np.random.randint(150, size=(3, 5))    #under 150 , 3 rows & 5 columns\n",
    "print(r1)\n",
    "print()\n",
    "\n",
    "r2=np.random.randint(2,10,4)   # min, max, number of values\n",
    "print(r2)"
   ]
  },
  {
   "cell_type": "code",
   "execution_count": 45,
   "id": "42caca6d-eab1-4eb2-9deb-612aced21ed5",
   "metadata": {},
   "outputs": [
    {
     "name": "stdout",
     "output_type": "stream",
     "text": [
      "[1 2 3 4]\n",
      "int32\n"
     ]
    }
   ],
   "source": [
    "x1=np.array([1,2,3,4])\n",
    "print(x1)\n",
    "print(x1.dtype)"
   ]
  },
  {
   "cell_type": "code",
   "execution_count": 55,
   "id": "6d26280c-cdf8-4268-b70a-2ff3a3ae5906",
   "metadata": {},
   "outputs": [
    {
     "name": "stdout",
     "output_type": "stream",
     "text": [
      "float32\n"
     ]
    }
   ],
   "source": [
    "x1=np.array([1,2,3,4], dtype=\"f\")\n",
    "print(x1.dtype)"
   ]
  },
  {
   "cell_type": "code",
   "execution_count": 65,
   "id": "fb26bc46-87a3-4ea8-9e29-f7599445c611",
   "metadata": {},
   "outputs": [
    {
     "name": "stdout",
     "output_type": "stream",
     "text": [
      "[1 2 3 4 5 6]\n",
      "\n",
      "[1 2 3 4 5 6]\n",
      "\n",
      "[b'1' b'2' b'3' b'4' b'5' b'6']\n"
     ]
    }
   ],
   "source": [
    "y=np.array([1,2,3,4,5,6])\n",
    "print(y)\n",
    "print()\n",
    "\n",
    "z=y.astype(\"m\") \n",
    "print(z)\n",
    "print()\n",
    "\n",
    "z1=y.astype('c')\n",
    "print(z1)\n"
   ]
  },
  {
   "cell_type": "code",
   "execution_count": 79,
   "id": "04166988-50d8-45f3-bf5a-720d361a19ec",
   "metadata": {},
   "outputs": [
    {
     "name": "stdout",
     "output_type": "stream",
     "text": [
      "[[2 3 4]\n",
      " [3 4 5]\n",
      " [4 5 6]]\n",
      "\n",
      "[3 5 7 9]\n"
     ]
    }
   ],
   "source": [
    "a=np.array([1,2,3])\n",
    "b=np.array([[1],[2,],[3]])\n",
    "print(a+b)\n",
    "print()\n",
    "\n",
    "\n",
    "a=([1,2,3,4])\n",
    "b=([2,3,4,5])\n",
    "add1=np.add(a,b)\n",
    "print(add1)"
   ]
  },
  {
   "cell_type": "code",
   "execution_count": 89,
   "id": "a6808928-ba92-45a7-a41b-863a25f4d7cd",
   "metadata": {},
   "outputs": [
    {
     "name": "stdout",
     "output_type": "stream",
     "text": [
      "[1.         1.41421356 1.73205081 2.        ]\n",
      "\n",
      "[ 0.84147098  0.90929743  0.14112001 -0.7568025 ]\n",
      "\n",
      "[ 1  3  6 10]\n"
     ]
    }
   ],
   "source": [
    "x=np.array([1,2,3,4])\n",
    "x1=np.sqrt(x)         #square root\n",
    "print(x1)\n",
    "print()\n",
    "\n",
    "x2=np.sin(x)          #values of every sin0\n",
    "print(x2)\n",
    "print()\n",
    "\n",
    "x3=np.cumsum(x)       #n1, n1+n2, n1+n2+n3, n1+n2+n3+n4\n",
    "print(x3)"
   ]
  },
  {
   "cell_type": "code",
   "execution_count": 73,
   "id": "27c03e28-fd43-44f8-aa30-cfe8cd257b5b",
   "metadata": {},
   "outputs": [
    {
     "name": "stdout",
     "output_type": "stream",
     "text": [
      "(5,)\n",
      "\n",
      "(2, 5)\n"
     ]
    }
   ],
   "source": [
    "var=np.array([1,2,3,4,5])\n",
    "print(var.shape)    #rows*columns\n",
    "print()\n",
    "\n",
    "var=np.array([[1,2,3,4,5],[9,8,7,6,5]])\n",
    "var1=var.shape\n",
    "print(var1)"
   ]
  },
  {
   "cell_type": "code",
   "execution_count": 79,
   "id": "fa80ddb6-cfa6-466f-9461-518cab522ea6",
   "metadata": {},
   "outputs": [
    {
     "name": "stdout",
     "output_type": "stream",
     "text": [
      "[[[1 2]\n",
      "  [3 4]]\n",
      "\n",
      " [[5 6]\n",
      "  [1 2]]\n",
      "\n",
      " [[2 3]\n",
      "  [2 3]]]\n"
     ]
    }
   ],
   "source": [
    "var1=np.array([1,2,3,4,5,6,1,2,2,3,2,3])\n",
    "v=var1.reshape(3,2,2)   #logicallay\n",
    "print(v)"
   ]
  },
  {
   "cell_type": "code",
   "execution_count": 93,
   "id": "e88d45f8-3db1-4136-84be-542ec6326cdf",
   "metadata": {},
   "outputs": [
    {
     "name": "stdout",
     "output_type": "stream",
     "text": [
      "[1 2 3 4 5 9 8 7 6 5]\n"
     ]
    }
   ],
   "source": [
    "var=np.array([[1,2,3,4,5],[9,8,7,6,5]])\n",
    "v=var.reshape(-1)                       #from any D to 1D\n",
    "print(v)"
   ]
  },
  {
   "cell_type": "code",
   "execution_count": 101,
   "id": "ba3c39c5-ce82-49e7-a398-5f7147268782",
   "metadata": {},
   "outputs": [
    {
     "name": "stdout",
     "output_type": "stream",
     "text": [
      "4\n",
      "\n",
      "6\n"
     ]
    }
   ],
   "source": [
    "#indexing\n",
    "var1=np.array([1,2,3,4,5,6])\n",
    "print(var1[3])\n",
    "print()\n",
    "\n",
    "\n",
    "x=np.array([[1,2,3],[2,4,6]])\n",
    "print(x[1,2])      #1 for index of 2D array, 2 for 2D's arrays index(6)"
   ]
  },
  {
   "cell_type": "code",
   "execution_count": 121,
   "id": "31b7ee41-24d9-4506-8d47-a49e8f555fd2",
   "metadata": {},
   "outputs": [
    {
     "name": "stdout",
     "output_type": "stream",
     "text": [
      "[4 5 6]\n",
      "\n",
      "[2 3 4 5]\n",
      "\n",
      "[4 5]\n",
      "\n",
      "[[1 2 3 4 7]]\n"
     ]
    }
   ],
   "source": [
    "#Slicing\n",
    "var=np.array([1,2,3,4,5,6])\n",
    "print(var[3:])\n",
    "print()\n",
    "\n",
    "print(var[1:5])    \n",
    "print()\n",
    "\n",
    "var2=np.array([[1,2,3,4,7],[4,5,6,8,10]])\n",
    "print(var2[1,0:2])\n",
    "print()\n",
    "\n",
    "print(var2[0:1:])"
   ]
  },
  {
   "cell_type": "code",
   "execution_count": 127,
   "id": "2bb8459b-74fa-4cb5-a850-bd8b1776568a",
   "metadata": {},
   "outputs": [
    {
     "name": "stdout",
     "output_type": "stream",
     "text": [
      "2\n",
      "4\n",
      "6\n",
      "8\n",
      "10\n"
     ]
    }
   ],
   "source": [
    "x=np.array([2,4,6,8,10])\n",
    "for i in x:\n",
    "    print(i)"
   ]
  },
  {
   "cell_type": "code",
   "execution_count": 129,
   "id": "08d57a73-cb08-47cc-98df-e81067f38856",
   "metadata": {},
   "outputs": [
    {
     "name": "stdout",
     "output_type": "stream",
     "text": [
      "1\n",
      "2\n",
      "3\n",
      "4\n",
      "9\n",
      "7\n",
      "6\n",
      "5\n",
      "2\n",
      "4\n",
      "6\n",
      "10\n"
     ]
    }
   ],
   "source": [
    "x=np.array([[[1,2,3,4],[9,7,6,5],[2,4,6,10]]])\n",
    "for j in x:\n",
    "    for k in j:\n",
    "        for l in k:\n",
    "            print(l)"
   ]
  },
  {
   "cell_type": "code",
   "execution_count": 131,
   "id": "2d46865b-0acd-4335-a44f-c7a1eec96a54",
   "metadata": {},
   "outputs": [
    {
     "name": "stdout",
     "output_type": "stream",
     "text": [
      "1\n",
      "\n",
      "2\n",
      "\n",
      "3\n",
      "\n",
      "4\n",
      "\n",
      "9\n",
      "\n",
      "7\n",
      "\n",
      "6\n",
      "\n",
      "5\n",
      "\n",
      "2\n",
      "\n",
      "4\n",
      "\n",
      "6\n",
      "\n",
      "10\n",
      "\n",
      "(0, 0, 0) 1\n",
      "(0, 0, 1) 2\n",
      "(0, 0, 2) 3\n",
      "(0, 0, 3) 4\n",
      "(0, 1, 0) 9\n",
      "(0, 1, 1) 7\n",
      "(0, 1, 2) 6\n",
      "(0, 1, 3) 5\n",
      "(0, 2, 0) 2\n",
      "(0, 2, 1) 4\n",
      "(0, 2, 2) 6\n",
      "(0, 2, 3) 10\n"
     ]
    }
   ],
   "source": [
    "x=np.array([[[1,2,3,4],[9,7,6,5],[2,4,6,10]]])\n",
    "\n",
    "for i in np.nditer(x):       \n",
    "    print(i)\n",
    "    print()\n",
    "\n",
    "\n",
    "for i,d in np.ndenumerate(x):      #with index\n",
    "    print(i,d)"
   ]
  },
  {
   "cell_type": "code",
   "execution_count": 135,
   "id": "73a9a0ac-f5d3-4e78-ad48-7c36d7dae371",
   "metadata": {},
   "outputs": [
    {
     "name": "stdout",
     "output_type": "stream",
     "text": [
      "[1 2 3 4 9 7 8 6]\n",
      "\n",
      "[[1 2 3 4]\n",
      " [9 7 8 6]]\n",
      "\n",
      "[1 2 3 4 9 7 8 6]\n",
      "\n",
      "[[[1 9]\n",
      "  [2 7]\n",
      "  [3 8]\n",
      "  [4 6]]]\n",
      "\n",
      "[array([1]), array([2]), array([3]), array([4])]\n"
     ]
    }
   ],
   "source": [
    "a=np.array([1,2,3,4])\n",
    "b=np.array([9,7,8,6])\n",
    "\n",
    "c= np.concatenate((a,b))    #row+row\n",
    "print(c)\n",
    "print()\n",
    "\n",
    "d=np.stack((a,b))           #row & row\n",
    "print(d)\n",
    "print()\n",
    "\n",
    "e=np.hstack((a,b))          #serial,row+row\n",
    "print(e)\n",
    "print()\n",
    "\n",
    "f=np.dstack((a,b))          #rows are convert into columns\n",
    "print(f)\n",
    "print()\n",
    "\n",
    "g=np.array_split(a,4)      #\n",
    "print(g)"
   ]
  },
  {
   "cell_type": "code",
   "execution_count": 139,
   "id": "4f821100-c0d4-40d9-b7d1-12fd461f63d6",
   "metadata": {},
   "outputs": [
    {
     "name": "stdout",
     "output_type": "stream",
     "text": [
      "[ 0  1 12  4]\n",
      "\n",
      "[ 1  2  2  3  4  4  5  6  6  7  9 10]\n",
      "\n",
      "(array([3, 9], dtype=int64),)\n"
     ]
    }
   ],
   "source": [
    "#Search\n",
    "x=np.array([1,2,3,4,9,7,6,5,2,4,6,10])\n",
    "\n",
    "a=np.searchsorted(x,[1,2,34,6])   #which index is perfect for these numbers\n",
    "print(a)\n",
    "print()\n",
    "\n",
    "j=np.sort(x)            #serial\n",
    "print(j)\n",
    "print()\n",
    "\n",
    "y=np.where(x==4)        #which index contains 4\n",
    "print(y)\n"
   ]
  },
  {
   "cell_type": "code",
   "execution_count": 143,
   "id": "427ad963-389b-450f-89a3-aa0d03d503b8",
   "metadata": {},
   "outputs": [
    {
     "name": "stdout",
     "output_type": "stream",
     "text": [
      "[ 1  2 10]\n"
     ]
    }
   ],
   "source": [
    "#Filter\n",
    "x=np.array([1,5,2,10])\n",
    "\n",
    "f=[True, False, True, True]\n",
    "v=x[f]\n",
    "print(v)"
   ]
  },
  {
   "cell_type": "code",
   "execution_count": 151,
   "id": "644bcd0e-f5cd-40a1-ad4e-fe7fe42343ad",
   "metadata": {},
   "outputs": [
    {
     "name": "stdout",
     "output_type": "stream",
     "text": [
      "[1 5 2]\n",
      "\n",
      "[ 1  5  2 10 15]\n"
     ]
    }
   ],
   "source": [
    "var=np.array([1,5,2,10])\n",
    "\n",
    "y=np.delete(var,3)   #index 3\n",
    "print(y)\n",
    "print()\n",
    "\n",
    "d = np.insert(var,4,15)\n",
    "print(d)"
   ]
  },
  {
   "cell_type": "code",
   "execution_count": 173,
   "id": "d5125c69-c2c2-47dd-862b-fc91f0ca09da",
   "metadata": {},
   "outputs": [
    {
     "name": "stdout",
     "output_type": "stream",
     "text": [
      "[[23  1  2 23  3]\n",
      " [23  2  4 23  6]]\n",
      "\n",
      "[[23 23 23]\n",
      " [ 1  2  3]\n",
      " [ 2  4  6]\n",
      " [23 23 23]]\n"
     ]
    }
   ],
   "source": [
    "x=np.array([[1,2,3],[2,4,6]])\n",
    "\n",
    "y=np.insert(x,[0,2],23, axis=1)\n",
    "print(y)\n",
    "print()\n",
    "\n",
    "y1=np.insert(x,[0,2],23, axis=0)\n",
    "print(y1)\n"
   ]
  },
  {
   "cell_type": "code",
   "execution_count": 169,
   "id": "d3cb8621-16ef-44ea-8c92-20c474f1fe85",
   "metadata": {},
   "outputs": [
    {
     "name": "stdout",
     "output_type": "stream",
     "text": [
      "[1 2 3 2 4 6]\n"
     ]
    }
   ],
   "source": [
    "x=np.array([[1,2,3],[2,4,6]])\n",
    "\n",
    "p1=np.ravel(x)   #2D to 1D\n",
    "print(p1)"
   ]
  },
  {
   "cell_type": "code",
   "execution_count": 163,
   "id": "e228a103-7eca-48a1-a20e-3c50ff663dfc",
   "metadata": {},
   "outputs": [
    {
     "name": "stdout",
     "output_type": "stream",
     "text": [
      "(array([ 1,  2,  3,  4,  5,  8, 67]), array([0, 1, 2, 3, 4, 6, 5], dtype=int64))\n"
     ]
    }
   ],
   "source": [
    "x=np.array([1,2,3,4,5,67,8,8])\n",
    "x1=np.unique(x,return_index=True)  \n",
    "print(x1)"
   ]
  },
  {
   "cell_type": "code",
   "execution_count": null,
   "id": "db3f4e07-558f-4cbd-ab9a-502b4ebef313",
   "metadata": {},
   "outputs": [],
   "source": []
  },
  {
   "cell_type": "code",
   "execution_count": 156,
   "id": "f360f5af-1c03-4542-8dec-4d7fdd2b2dae",
   "metadata": {},
   "outputs": [
    {
     "name": "stdout",
     "output_type": "stream",
     "text": [
      "[[1 2 3 4]\n",
      " [9 8 7 6]]\n",
      "<class 'numpy.matrix'>\n"
     ]
    }
   ],
   "source": [
    "#Matrix\n",
    "\n",
    "x=np.matrix([[1,2,3,4],[9,8,7,6]])\n",
    "print(x)\n",
    "print(type(x))"
   ]
  },
  {
   "cell_type": "code",
   "execution_count": 175,
   "id": "fa793655-01aa-43d7-bb07-9410a6955dca",
   "metadata": {},
   "outputs": [
    {
     "name": "stdout",
     "output_type": "stream",
     "text": [
      "[[-0.6  0.4]\n",
      " [ 0.7 -0.3]]\n",
      "\n",
      "[[37 36]\n",
      " [63 64]]\n",
      "\n",
      "-10.000000000000002\n"
     ]
    }
   ],
   "source": [
    "x=np.matrix([[3,4],[7,6]])\n",
    "\n",
    "y=np.linalg.inv(x)               #inverse matrix\n",
    "print(y)\n",
    "print()\n",
    "\n",
    "z=np.linalg.matrix_power(x,2)    #power matrix\n",
    "print(z)\n",
    "print()\n",
    "\n",
    "a=np.linalg.det(x)               #determine\n",
    "print(a)\n"
   ]
  },
  {
   "cell_type": "code",
   "execution_count": 187,
   "id": "efb280f9-696d-47b4-8971-47d065c69a6a",
   "metadata": {},
   "outputs": [
    {
     "name": "stdout",
     "output_type": "stream",
     "text": [
      "[[3 7]\n",
      " [4 6]]\n",
      "\n",
      "[[3 4]\n",
      " [7 6]]\n",
      "\n"
     ]
    }
   ],
   "source": [
    "x=np.matrix([[3,4],[7,6]])\n",
    "x=np.transpose(x)\n",
    "print(x)\n",
    "print()\n",
    "\n",
    "x1=(x.T)    #same as T\n",
    "\n",
    "print(x1)\n",
    "print()\n",
    "\n"
   ]
  },
  {
   "cell_type": "code",
   "execution_count": null,
   "id": "2aba3570-4e39-4e18-b304-0cbbd29f2ba5",
   "metadata": {},
   "outputs": [],
   "source": []
  }
 ],
 "metadata": {
  "kernelspec": {
   "display_name": "Python 3 (ipykernel)",
   "language": "python",
   "name": "python3"
  },
  "language_info": {
   "codemirror_mode": {
    "name": "ipython",
    "version": 3
   },
   "file_extension": ".py",
   "mimetype": "text/x-python",
   "name": "python",
   "nbconvert_exporter": "python",
   "pygments_lexer": "ipython3",
   "version": "3.12.4"
  }
 },
 "nbformat": 4,
 "nbformat_minor": 5
}
